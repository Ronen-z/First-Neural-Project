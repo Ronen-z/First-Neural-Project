{
 "cells": [
  {
   "cell_type": "code",
   "execution_count": 122,
   "metadata": {},
   "outputs": [],
   "source": [
    "import numpy as np\n",
    "import pandas as pd\n",
    "import re\n",
    "import nltk\n",
    "from nltk.corpus import stopwords\n",
    "import seaborn as sns\n",
    "import matplotlib.pyplot as plt"
   ]
  },
  {
   "cell_type": "code",
   "execution_count": 200,
   "metadata": {},
   "outputs": [
    {
     "data": {
      "text/html": [
       "<div>\n",
       "<style scoped>\n",
       "    .dataframe tbody tr th:only-of-type {\n",
       "        vertical-align: middle;\n",
       "    }\n",
       "\n",
       "    .dataframe tbody tr th {\n",
       "        vertical-align: top;\n",
       "    }\n",
       "\n",
       "    .dataframe thead th {\n",
       "        text-align: right;\n",
       "    }\n",
       "</style>\n",
       "<table border=\"1\" class=\"dataframe\">\n",
       "  <thead>\n",
       "    <tr style=\"text-align: right;\">\n",
       "      <th></th>\n",
       "      <th>Rating</th>\n",
       "      <th>Review</th>\n",
       "      <th>Translated_Review</th>\n",
       "    </tr>\n",
       "  </thead>\n",
       "  <tbody>\n",
       "    <tr>\n",
       "      <th>0</th>\n",
       "      <td>Positive</td>\n",
       "      <td>perfect shipping fast really good quality usual</td>\n",
       "      <td>الشحن المثالي السريع جيد الجودة المعتاد حقاً</td>\n",
       "    </tr>\n",
       "    <tr>\n",
       "      <th>1</th>\n",
       "      <td>Positive</td>\n",
       "      <td>unable apply discount code purchase process as...</td>\n",
       "      <td>مساعدة عملية شراء شفرة الخصم غير قادرة على تطب...</td>\n",
       "    </tr>\n",
       "    <tr>\n",
       "      <th>2</th>\n",
       "      <td>Positive</td>\n",
       "      <td>fantastic always problem order gym shark recti...</td>\n",
       "      <td>روعة دائماً مشكلة طلبية الجمنازيوم turriced fo...</td>\n",
       "    </tr>\n",
       "    <tr>\n",
       "      <th>3</th>\n",
       "      <td>Positive</td>\n",
       "      <td>quick delivery high quality website easy use p...</td>\n",
       "      <td>توصيل سريع عالي الجودة على الموقع الإلكتروني ا...</td>\n",
       "    </tr>\n",
       "    <tr>\n",
       "      <th>4</th>\n",
       "      <td>Positive</td>\n",
       "      <td>quality gym clothing easy purchase delivered q...</td>\n",
       "      <td>جودة شراء الملابس الرياضية السهلة تم تسليمها ب...</td>\n",
       "    </tr>\n",
       "  </tbody>\n",
       "</table>\n",
       "</div>"
      ],
      "text/plain": [
       "     Rating                                             Review  \\\n",
       "0  Positive    perfect shipping fast really good quality usual   \n",
       "1  Positive  unable apply discount code purchase process as...   \n",
       "2  Positive  fantastic always problem order gym shark recti...   \n",
       "3  Positive  quick delivery high quality website easy use p...   \n",
       "4  Positive  quality gym clothing easy purchase delivered q...   \n",
       "\n",
       "                                   Translated_Review  \n",
       "0       الشحن المثالي السريع جيد الجودة المعتاد حقاً  \n",
       "1  مساعدة عملية شراء شفرة الخصم غير قادرة على تطب...  \n",
       "2  روعة دائماً مشكلة طلبية الجمنازيوم turriced fo...  \n",
       "3  توصيل سريع عالي الجودة على الموقع الإلكتروني ا...  \n",
       "4  جودة شراء الملابس الرياضية السهلة تم تسليمها ب...  "
      ]
     },
     "execution_count": 200,
     "metadata": {},
     "output_type": "execute_result"
    }
   ],
   "source": [
    "df = pd.read_csv(\"Translated_Reviews.csv\")\n",
    "df.head()"
   ]
  },
  {
   "cell_type": "code",
   "execution_count": 201,
   "metadata": {},
   "outputs": [
    {
     "data": {
      "text/plain": [
       "Rating               0\n",
       "Review               0\n",
       "Translated_Review    0\n",
       "dtype: int64"
      ]
     },
     "execution_count": 201,
     "metadata": {},
     "output_type": "execute_result"
    }
   ],
   "source": [
    "df = df.dropna()\n",
    "df.isna().sum()"
   ]
  },
  {
   "cell_type": "code",
   "execution_count": 202,
   "metadata": {},
   "outputs": [
    {
     "name": "stdout",
     "output_type": "stream",
     "text": [
      "Rating\n",
      "Negative    10451\n",
      "Neutral      1292\n",
      "Positive    31311\n",
      "Name: count, dtype: int64\n"
     ]
    },
    {
     "name": "stderr",
     "output_type": "stream",
     "text": [
      "C:\\Users\\Hussien\\AppData\\Local\\Temp\\ipykernel_4156\\927187097.py:7: FutureWarning: \n",
      "\n",
      "Passing `palette` without assigning `hue` is deprecated and will be removed in v0.14.0. Assign the `x` variable to `hue` and set `legend=False` for the same effect.\n",
      "\n",
      "  sns.barplot(x=rating_counts.index, y=rating_counts.values, palette='viridis')\n"
     ]
    },
    {
     "data": {
      "image/png": "[encoded data removed]",
      "text/plain": [
       "<Figure size 1000x600 with 1 Axes>"
      ]
     },
     "metadata": {},
     "output_type": "display_data"
    }
   ],
   "source": [
    "# Count the occurrences of each rating\n",
    "rating_counts = df['Rating'].value_counts().sort_index()\n",
    "print(rating_counts)\n",
    "\n",
    "# Create the bar plot\n",
    "plt.figure(figsize=(10, 6))\n",
    "sns.barplot(x=rating_counts.index, y=rating_counts.values, palette='viridis')\n",
    "\n",
    "# Set plot labels and title\n",
    "plt.xlabel('Rating')\n",
    "plt.ylabel('Count')\n",
    "plt.title('Distribution of Ratings')\n",
    "plt.xticks(rotation=45)\n",
    "\n",
    "# Display the plot\n",
    "plt.show()"
   ]
  },
  {
   "cell_type": "markdown",
   "metadata": {},
   "source": [
    "## Add another dataset to help balance the data"
   ]
  },
  {
   "cell_type": "code",
   "execution_count": 203,
   "metadata": {},
   "outputs": [
    {
     "name": "stdout",
     "output_type": "stream",
     "text": [
      "Rating\n",
      "Negative    14200\n",
      "Neutral      1925\n",
      "Name: count, dtype: int64\n"
     ]
    },
    {
     "name": "stderr",
     "output_type": "stream",
     "text": [
      "C:\\Users\\Hussien\\AppData\\Local\\Temp\\ipykernel_4156\\318350268.py:20: FutureWarning: \n",
      "\n",
      "Passing `palette` without assigning `hue` is deprecated and will be removed in v0.14.0. Assign the `x` variable to `hue` and set `legend=False` for the same effect.\n",
      "\n",
      "  sns.barplot(x=rating_counts.index, y=rating_counts.values, palette='viridis')\n"
     ]
    },
    {
     "data": {
      "image/png": "[encoded data removed]",
      "text/plain": [
       "<Figure size 1000x600 with 1 Axes>"
      ]
     },
     "metadata": {},
     "output_type": "display_data"
    }
   ],
   "source": [
    "df1 = pd.read_csv(\"Translated_Reviews_Set1.csv\")\n",
    "\n",
    "df1 = df1.drop(['company', 'Unnamed: 0'], axis = 1)\n",
    "\n",
    "df1 = df1.rename(columns={'review_description': 'Translated_Review', 'rating': 'Rating'})\n",
    "\n",
    "df1 = df1.loc[:, ['Rating', 'Translated_Review']]\n",
    "\n",
    "df1 = df1[df1['Rating'] != 1]\n",
    "\n",
    "rating_mapping = {0 : 'Neutral', -1: 'Negative'}\n",
    "df1['Rating'] = df1['Rating'].map(rating_mapping)\n",
    "\n",
    "# Count the occurrences of each rating\n",
    "rating_counts = df1['Rating'].value_counts().sort_index()\n",
    "print(rating_counts)\n",
    "\n",
    "# Create the bar plot\n",
    "plt.figure(figsize=(10, 6))\n",
    "sns.barplot(x=rating_counts.index, y=rating_counts.values, palette='viridis')\n",
    "\n",
    "# Set plot labels and title\n",
    "plt.xlabel('Rating')\n",
    "plt.ylabel('Count')\n",
    "plt.title('Distribution of Ratings')\n",
    "plt.xticks(rotation=45)\n",
    "\n",
    "# Display the plot\n",
    "plt.show()\n"
   ]
  },
  {
   "cell_type": "code",
   "execution_count": 204,
   "metadata": {},
   "outputs": [
    {
     "name": "stdout",
     "output_type": "stream",
     "text": [
      "Rating\n",
      "Neutral    23753\n",
      "Name: count, dtype: int64\n"
     ]
    },
    {
     "name": "stderr",
     "output_type": "stream",
     "text": [
      "C:\\Users\\Hussien\\AppData\\Local\\Temp\\ipykernel_4156\\2734151309.py:20: FutureWarning: \n",
      "\n",
      "Passing `palette` without assigning `hue` is deprecated and will be removed in v0.14.0. Assign the `x` variable to `hue` and set `legend=False` for the same effect.\n",
      "\n",
      "  sns.barplot(x=rating_counts.index, y=rating_counts.values, palette='viridis')\n"
     ]
    },
    {
     "data": {
      "image/png": "[encoded data removed]",
      "text/plain": [
       "<Figure size 1000x600 with 1 Axes>"
      ]
     },
     "metadata": {},
     "output_type": "display_data"
    },
    {
     "data": {
      "text/html": [
       "<div>\n",
       "<style scoped>\n",
       "    .dataframe tbody tr th:only-of-type {\n",
       "        vertical-align: middle;\n",
       "    }\n",
       "\n",
       "    .dataframe tbody tr th {\n",
       "        vertical-align: top;\n",
       "    }\n",
       "\n",
       "    .dataframe thead th {\n",
       "        text-align: right;\n",
       "    }\n",
       "</style>\n",
       "<table border=\"1\" class=\"dataframe\">\n",
       "  <thead>\n",
       "    <tr style=\"text-align: right;\">\n",
       "      <th></th>\n",
       "      <th>Rating</th>\n",
       "      <th>Translated_Review</th>\n",
       "    </tr>\n",
       "  </thead>\n",
       "  <tbody>\n",
       "    <tr>\n",
       "      <th>7</th>\n",
       "      <td>Neutral</td>\n",
       "      <td>اذا قمت بفتح التطبيق يطلب تحديث واذا ضغطت على ...</td>\n",
       "    </tr>\n",
       "    <tr>\n",
       "      <th>33</th>\n",
       "      <td>Neutral</td>\n",
       "      <td>مايدخلني التطبيق ليش؟؟؟ يقولي كلمة المرور او ا...</td>\n",
       "    </tr>\n",
       "    <tr>\n",
       "      <th>34</th>\n",
       "      <td>Neutral</td>\n",
       "      <td>ادخل اسم المستخدم وكلمه المرور ويلي اسم المستخ...</td>\n",
       "    </tr>\n",
       "    <tr>\n",
       "      <th>35</th>\n",
       "      <td>Neutral</td>\n",
       "      <td>التطبيق مو نفس اول صار مره يعلق ما يرسل الرمز ...</td>\n",
       "    </tr>\n",
       "    <tr>\n",
       "      <th>36</th>\n",
       "      <td>Neutral</td>\n",
       "      <td>بعد التحديث اصبحت رسالة التعميد لا تصل لجوالي ...</td>\n",
       "    </tr>\n",
       "    <tr>\n",
       "      <th>...</th>\n",
       "      <td>...</td>\n",
       "      <td>...</td>\n",
       "    </tr>\n",
       "    <tr>\n",
       "      <th>67122</th>\n",
       "      <td>Neutral</td>\n",
       "      <td>كتاب جيد وإن كان مملا بعض الشيء عند منتصف الكت...</td>\n",
       "    </tr>\n",
       "    <tr>\n",
       "      <th>67123</th>\n",
       "      <td>Neutral</td>\n",
       "      <td>أول تجربة مع الخيال العلمي...الكثير من المعلوم...</td>\n",
       "    </tr>\n",
       "    <tr>\n",
       "      <th>67124</th>\n",
       "      <td>Neutral</td>\n",
       "      <td>مرضي. الافطار لذيذ. لا يوجد قائمة طعام في الغر...</td>\n",
       "    </tr>\n",
       "    <tr>\n",
       "      <th>67125</th>\n",
       "      <td>Neutral</td>\n",
       "      <td>الرسائل بين وائل و شوق كانت أجمل مافي الرواية....</td>\n",
       "    </tr>\n",
       "    <tr>\n",
       "      <th>67126</th>\n",
       "      <td>Neutral</td>\n",
       "      <td>استقبال سيء جدا وعدم الاستعداد للنزلاء . لا شي...</td>\n",
       "    </tr>\n",
       "  </tbody>\n",
       "</table>\n",
       "<p>23753 rows × 2 columns</p>\n",
       "</div>"
      ],
      "text/plain": [
       "        Rating                                  Translated_Review\n",
       "7      Neutral  اذا قمت بفتح التطبيق يطلب تحديث واذا ضغطت على ...\n",
       "33     Neutral  مايدخلني التطبيق ليش؟؟؟ يقولي كلمة المرور او ا...\n",
       "34     Neutral  ادخل اسم المستخدم وكلمه المرور ويلي اسم المستخ...\n",
       "35     Neutral  التطبيق مو نفس اول صار مره يعلق ما يرسل الرمز ...\n",
       "36     Neutral  بعد التحديث اصبحت رسالة التعميد لا تصل لجوالي ...\n",
       "...        ...                                                ...\n",
       "67122  Neutral  كتاب جيد وإن كان مملا بعض الشيء عند منتصف الكت...\n",
       "67123  Neutral  أول تجربة مع الخيال العلمي...الكثير من المعلوم...\n",
       "67124  Neutral  مرضي. الافطار لذيذ. لا يوجد قائمة طعام في الغر...\n",
       "67125  Neutral  الرسائل بين وائل و شوق كانت أجمل مافي الرواية....\n",
       "67126  Neutral  استقبال سيء جدا وعدم الاستعداد للنزلاء . لا شي...\n",
       "\n",
       "[23753 rows x 2 columns]"
      ]
     },
     "execution_count": 204,
     "metadata": {},
     "output_type": "execute_result"
    }
   ],
   "source": [
    "df2 = pd.read_excel(\"Translated_Reviews_Set2.xlsx\")\n",
    "\n",
    "df2 = df2.drop(['company', 'Unnamed: 0'], axis = 1)\n",
    "\n",
    "df2 = df2.rename(columns={'review_description': 'Translated_Review', 'rating': 'Rating'})\n",
    "\n",
    "df2 = df2.loc[:, ['Rating', 'Translated_Review']]\n",
    "\n",
    "df2 = df2[df2['Rating'] == 0]\n",
    "\n",
    "rating_mapping = {0 : 'Neutral'}\n",
    "df2['Rating'] = df2['Rating'].map(rating_mapping)\n",
    "\n",
    "# Count the occurrences of each rating\n",
    "rating_counts = df2['Rating'].value_counts().sort_index()\n",
    "print(rating_counts)\n",
    "\n",
    "# Create the bar plot\n",
    "plt.figure(figsize=(10, 6))\n",
    "sns.barplot(x=rating_counts.index, y=rating_counts.values, palette='viridis')\n",
    "\n",
    "# Set plot labels and title\n",
    "plt.xlabel('Rating')\n",
    "plt.ylabel('Count')\n",
    "plt.title('Distribution of Ratings')\n",
    "plt.xticks(rotation=45)\n",
    "\n",
    "# Display the plot\n",
    "plt.show()\n",
    "\n",
    "df2"
   ]
  },
  {
   "cell_type": "code",
   "execution_count": 205,
   "metadata": {},
   "outputs": [
    {
     "data": {
      "text/html": [
       "<div>\n",
       "<style scoped>\n",
       "    .dataframe tbody tr th:only-of-type {\n",
       "        vertical-align: middle;\n",
       "    }\n",
       "\n",
       "    .dataframe tbody tr th {\n",
       "        vertical-align: top;\n",
       "    }\n",
       "\n",
       "    .dataframe thead th {\n",
       "        text-align: right;\n",
       "    }\n",
       "</style>\n",
       "<table border=\"1\" class=\"dataframe\">\n",
       "  <thead>\n",
       "    <tr style=\"text-align: right;\">\n",
       "      <th></th>\n",
       "      <th>Rating</th>\n",
       "      <th>Review</th>\n",
       "      <th>Translated_Review</th>\n",
       "    </tr>\n",
       "  </thead>\n",
       "  <tbody>\n",
       "    <tr>\n",
       "      <th>0</th>\n",
       "      <td>Positive</td>\n",
       "      <td>perfect shipping fast really good quality usual</td>\n",
       "      <td>الشحن المثالي السريع جيد الجودة المعتاد حقاً</td>\n",
       "    </tr>\n",
       "    <tr>\n",
       "      <th>1</th>\n",
       "      <td>Positive</td>\n",
       "      <td>unable apply discount code purchase process as...</td>\n",
       "      <td>مساعدة عملية شراء شفرة الخصم غير قادرة على تطب...</td>\n",
       "    </tr>\n",
       "    <tr>\n",
       "      <th>2</th>\n",
       "      <td>Positive</td>\n",
       "      <td>fantastic always problem order gym shark recti...</td>\n",
       "      <td>روعة دائماً مشكلة طلبية الجمنازيوم turriced fo...</td>\n",
       "    </tr>\n",
       "    <tr>\n",
       "      <th>3</th>\n",
       "      <td>Positive</td>\n",
       "      <td>quick delivery high quality website easy use p...</td>\n",
       "      <td>توصيل سريع عالي الجودة على الموقع الإلكتروني ا...</td>\n",
       "    </tr>\n",
       "    <tr>\n",
       "      <th>4</th>\n",
       "      <td>Positive</td>\n",
       "      <td>quality gym clothing easy purchase delivered q...</td>\n",
       "      <td>جودة شراء الملابس الرياضية السهلة تم تسليمها ب...</td>\n",
       "    </tr>\n",
       "    <tr>\n",
       "      <th>...</th>\n",
       "      <td>...</td>\n",
       "      <td>...</td>\n",
       "      <td>...</td>\n",
       "    </tr>\n",
       "    <tr>\n",
       "      <th>82927</th>\n",
       "      <td>Neutral</td>\n",
       "      <td>NaN</td>\n",
       "      <td>كتاب جيد وإن كان مملا بعض الشيء عند منتصف الكت...</td>\n",
       "    </tr>\n",
       "    <tr>\n",
       "      <th>82928</th>\n",
       "      <td>Neutral</td>\n",
       "      <td>NaN</td>\n",
       "      <td>أول تجربة مع الخيال العلمي...الكثير من المعلوم...</td>\n",
       "    </tr>\n",
       "    <tr>\n",
       "      <th>82929</th>\n",
       "      <td>Neutral</td>\n",
       "      <td>NaN</td>\n",
       "      <td>مرضي. الافطار لذيذ. لا يوجد قائمة طعام في الغر...</td>\n",
       "    </tr>\n",
       "    <tr>\n",
       "      <th>82930</th>\n",
       "      <td>Neutral</td>\n",
       "      <td>NaN</td>\n",
       "      <td>الرسائل بين وائل و شوق كانت أجمل مافي الرواية....</td>\n",
       "    </tr>\n",
       "    <tr>\n",
       "      <th>82931</th>\n",
       "      <td>Neutral</td>\n",
       "      <td>NaN</td>\n",
       "      <td>استقبال سيء جدا وعدم الاستعداد للنزلاء . لا شي...</td>\n",
       "    </tr>\n",
       "  </tbody>\n",
       "</table>\n",
       "<p>82932 rows × 3 columns</p>\n",
       "</div>"
      ],
      "text/plain": [
       "         Rating                                             Review  \\\n",
       "0      Positive    perfect shipping fast really good quality usual   \n",
       "1      Positive  unable apply discount code purchase process as...   \n",
       "2      Positive  fantastic always problem order gym shark recti...   \n",
       "3      Positive  quick delivery high quality website easy use p...   \n",
       "4      Positive  quality gym clothing easy purchase delivered q...   \n",
       "...         ...                                                ...   \n",
       "82927   Neutral                                                NaN   \n",
       "82928   Neutral                                                NaN   \n",
       "82929   Neutral                                                NaN   \n",
       "82930   Neutral                                                NaN   \n",
       "82931   Neutral                                                NaN   \n",
       "\n",
       "                                       Translated_Review  \n",
       "0           الشحن المثالي السريع جيد الجودة المعتاد حقاً  \n",
       "1      مساعدة عملية شراء شفرة الخصم غير قادرة على تطب...  \n",
       "2      روعة دائماً مشكلة طلبية الجمنازيوم turriced fo...  \n",
       "3      توصيل سريع عالي الجودة على الموقع الإلكتروني ا...  \n",
       "4      جودة شراء الملابس الرياضية السهلة تم تسليمها ب...  \n",
       "...                                                  ...  \n",
       "82927  كتاب جيد وإن كان مملا بعض الشيء عند منتصف الكت...  \n",
       "82928  أول تجربة مع الخيال العلمي...الكثير من المعلوم...  \n",
       "82929  مرضي. الافطار لذيذ. لا يوجد قائمة طعام في الغر...  \n",
       "82930  الرسائل بين وائل و شوق كانت أجمل مافي الرواية....  \n",
       "82931  استقبال سيء جدا وعدم الاستعداد للنزلاء . لا شي...  \n",
       "\n",
       "[82932 rows x 3 columns]"
      ]
     },
     "execution_count": 205,
     "metadata": {},
     "output_type": "execute_result"
    }
   ],
   "source": [
    "# Concatenate along rows\n",
    "result = pd.concat([df, df1, df2], axis=0, ignore_index=True)\n",
    "df = result\n",
    "df"
   ]
  },
  {
   "cell_type": "code",
   "execution_count": 206,
   "metadata": {},
   "outputs": [
    {
     "data": {
      "text/plain": [
       "Rating               0\n",
       "Translated_Review    0\n",
       "dtype: int64"
      ]
     },
     "execution_count": 206,
     "metadata": {},
     "output_type": "execute_result"
    }
   ],
   "source": [
    "df = df.drop(['Review'], axis = 1)\n",
    "df = df.dropna()\n",
    "df.isna().sum()"
   ]
  },
  {
   "cell_type": "code",
   "execution_count": 208,
   "metadata": {},
   "outputs": [
    {
     "data": {
      "text/plain": [
       "(82929, 2)"
      ]
     },
     "execution_count": 208,
     "metadata": {},
     "output_type": "execute_result"
    }
   ],
   "source": [
    "df.shape"
   ]
  },
  {
   "cell_type": "code",
   "execution_count": 209,
   "metadata": {},
   "outputs": [
    {
     "data": {
      "text/plain": [
       "(79569, 2)"
      ]
     },
     "execution_count": 209,
     "metadata": {},
     "output_type": "execute_result"
    }
   ],
   "source": [
    "df = df.drop_duplicates()\n",
    "df.shape"
   ]
  },
  {
   "cell_type": "code",
   "execution_count": 210,
   "metadata": {},
   "outputs": [
    {
     "name": "stdout",
     "output_type": "stream",
     "text": [
      "Rating\n",
      "Negative    24361\n",
      "Neutral     25707\n",
      "Positive    29501\n",
      "Name: count, dtype: int64\n"
     ]
    },
    {
     "name": "stderr",
     "output_type": "stream",
     "text": [
      "C:\\Users\\Hussien\\AppData\\Local\\Temp\\ipykernel_4156\\927187097.py:7: FutureWarning: \n",
      "\n",
      "Passing `palette` without assigning `hue` is deprecated and will be removed in v0.14.0. Assign the `x` variable to `hue` and set `legend=False` for the same effect.\n",
      "\n",
      "  sns.barplot(x=rating_counts.index, y=rating_counts.values, palette='viridis')\n"
     ]
    },
    {
     "data": {
      "image/png": "[encoded data removed]",
      "text/plain": [
       "<Figure size 1000x600 with 1 Axes>"
      ]
     },
     "metadata": {},
     "output_type": "display_data"
    }
   ],
   "source": [
    "# Count the occurrences of each rating\n",
    "rating_counts = df['Rating'].value_counts().sort_index()\n",
    "print(rating_counts)\n",
    "\n",
    "# Create the bar plot\n",
    "plt.figure(figsize=(10, 6))\n",
    "sns.barplot(x=rating_counts.index, y=rating_counts.values, palette='viridis')\n",
    "\n",
    "# Set plot labels and title\n",
    "plt.xlabel('Rating')\n",
    "plt.ylabel('Count')\n",
    "plt.title('Distribution of Ratings')\n",
    "plt.xticks(rotation=45)\n",
    "\n",
    "# Display the plot\n",
    "plt.show()"
   ]
  },
  {
   "cell_type": "code",
   "execution_count": 211,
   "metadata": {},
   "outputs": [
    {
     "name": "stdout",
     "output_type": "stream",
     "text": [
      "(79569, 2)\n"
     ]
    },
    {
     "data": {
      "text/plain": [
       "Rating               0\n",
       "Translated_Review    0\n",
       "dtype: int64"
      ]
     },
     "execution_count": 211,
     "metadata": {},
     "output_type": "execute_result"
    }
   ],
   "source": [
    "print(df.shape)\n",
    "df.isna().sum()"
   ]
  },
  {
   "cell_type": "code",
   "execution_count": 212,
   "metadata": {},
   "outputs": [
    {
     "data": {
      "text/html": [
       "<div>\n",
       "<style scoped>\n",
       "    .dataframe tbody tr th:only-of-type {\n",
       "        vertical-align: middle;\n",
       "    }\n",
       "\n",
       "    .dataframe tbody tr th {\n",
       "        vertical-align: top;\n",
       "    }\n",
       "\n",
       "    .dataframe thead th {\n",
       "        text-align: right;\n",
       "    }\n",
       "</style>\n",
       "<table border=\"1\" class=\"dataframe\">\n",
       "  <thead>\n",
       "    <tr style=\"text-align: right;\">\n",
       "      <th></th>\n",
       "      <th>Rating</th>\n",
       "      <th>Translated_Review</th>\n",
       "    </tr>\n",
       "  </thead>\n",
       "  <tbody>\n",
       "    <tr>\n",
       "      <th>0</th>\n",
       "      <td>Positive</td>\n",
       "      <td>الشحن المثالي السريع جيد الجودة المعتاد حقاً</td>\n",
       "    </tr>\n",
       "    <tr>\n",
       "      <th>1</th>\n",
       "      <td>Positive</td>\n",
       "      <td>مساعدة عملية شراء شفرة الخصم غير قادرة على تطب...</td>\n",
       "    </tr>\n",
       "    <tr>\n",
       "      <th>2</th>\n",
       "      <td>Positive</td>\n",
       "      <td>روعة دائماً مشكلة طلبية الجمنازيوم</td>\n",
       "    </tr>\n",
       "    <tr>\n",
       "      <th>3</th>\n",
       "      <td>Positive</td>\n",
       "      <td>توصيل سريع عالي الجودة على الموقع الإلكتروني ا...</td>\n",
       "    </tr>\n",
       "    <tr>\n",
       "      <th>4</th>\n",
       "      <td>Positive</td>\n",
       "      <td>جودة شراء الملابس الرياضية السهلة تم تسليمها ب...</td>\n",
       "    </tr>\n",
       "    <tr>\n",
       "      <th>...</th>\n",
       "      <td>...</td>\n",
       "      <td>...</td>\n",
       "    </tr>\n",
       "    <tr>\n",
       "      <th>82927</th>\n",
       "      <td>Neutral</td>\n",
       "      <td>كتاب جيد وإن كان مملا بعض الشيء عند منتصف الكتاب</td>\n",
       "    </tr>\n",
       "    <tr>\n",
       "      <th>82928</th>\n",
       "      <td>Neutral</td>\n",
       "      <td>أول تجربة مع الخيال العلميالكثير من المعلومات ...</td>\n",
       "    </tr>\n",
       "    <tr>\n",
       "      <th>82929</th>\n",
       "      <td>Neutral</td>\n",
       "      <td>مرضي الافطار لذيذ لا يوجد قائمة طعام في الغرفة...</td>\n",
       "    </tr>\n",
       "    <tr>\n",
       "      <th>82930</th>\n",
       "      <td>Neutral</td>\n",
       "      <td>الرسائل بين وائل و شوق كانت أجمل مافي الرواية ...</td>\n",
       "    </tr>\n",
       "    <tr>\n",
       "      <th>82931</th>\n",
       "      <td>Neutral</td>\n",
       "      <td>استقبال سيء جدا وعدم الاستعداد للنزلاء  لا شيء...</td>\n",
       "    </tr>\n",
       "  </tbody>\n",
       "</table>\n",
       "<p>79569 rows × 2 columns</p>\n",
       "</div>"
      ],
      "text/plain": [
       "         Rating                                  Translated_Review\n",
       "0      Positive       الشحن المثالي السريع جيد الجودة المعتاد حقاً\n",
       "1      Positive  مساعدة عملية شراء شفرة الخصم غير قادرة على تطب...\n",
       "2      Positive              روعة دائماً مشكلة طلبية الجمنازيوم   \n",
       "3      Positive  توصيل سريع عالي الجودة على الموقع الإلكتروني ا...\n",
       "4      Positive  جودة شراء الملابس الرياضية السهلة تم تسليمها ب...\n",
       "...         ...                                                ...\n",
       "82927   Neutral  كتاب جيد وإن كان مملا بعض الشيء عند منتصف الكتاب \n",
       "82928   Neutral  أول تجربة مع الخيال العلميالكثير من المعلومات ...\n",
       "82929   Neutral  مرضي الافطار لذيذ لا يوجد قائمة طعام في الغرفة...\n",
       "82930   Neutral  الرسائل بين وائل و شوق كانت أجمل مافي الرواية ...\n",
       "82931   Neutral  استقبال سيء جدا وعدم الاستعداد للنزلاء  لا شيء...\n",
       "\n",
       "[79569 rows x 2 columns]"
      ]
     },
     "execution_count": 212,
     "metadata": {},
     "output_type": "execute_result"
    }
   ],
   "source": [
    "def keep_only_arabic(text):\n",
    "    # Remove everything that is not Arabic\n",
    "    cleaned_text = re.sub(r'[^\\u0600-\\u06FF\\s]', '', text)\n",
    "    # Return None if the cleaned text is empty or only whitespace\n",
    "    return cleaned_text if cleaned_text.strip() else None\n",
    "\n",
    "\n",
    "# Assuming `df` is your DataFrame and \"Translated_Review\" is the column name\n",
    "df[\"Translated_Review\"] = df[\"Translated_Review\"].apply(keep_only_arabic)\n",
    "\n",
    "df"
   ]
  },
  {
   "cell_type": "code",
   "execution_count": 213,
   "metadata": {},
   "outputs": [
    {
     "name": "stdout",
     "output_type": "stream",
     "text": [
      "0             الشحن المثالي السريع جيد الجودة المعتاد حقاً\n",
      "1        مساعدة عملية شرا شفرة الخصم غير قادرة على تطبي...\n",
      "2                    روعة دائماً مشكلة طلبية الجمنازيوم   \n",
      "3        توصيل سريع عالي الجودة على الموقع الإلكتروني ا...\n",
      "4        جودة شرا الملابس الرياضية السهلة تم تسليمها بسرعة\n",
      "                               ...                        \n",
      "82927     كتاب جيد وإن كان مملا بعض الشي عند منتصف الكتاب \n",
      "82928    أول تجربة مع الخيال العلميالكثير من المعلومات ...\n",
      "82929    مرضي الافطار لذيذ لا يوجد قائمة طعام في الغرفة...\n",
      "82930    الرسائل بين وائل و شوق كانت أجمل مافي الرواية ...\n",
      "82931    استقبال سي جدا وعدم الاستعداد للنزلا  لا شي عد...\n",
      "Name: Translated_Review, Length: 79569, dtype: object\n"
     ]
    }
   ],
   "source": [
    "def remove_punctuation(text):\n",
    "    pattern = r'[،؛؟!\"\\'()\\[\\]{}<>«»\\*\\&\\%\\$\\#\\@\\^\\~\\-\\+\\=\\:\\\\\\/\\.\\,\\?\\ء]'\n",
    "    clean_text = re.sub(pattern, '', str(text))  \n",
    "    return clean_text\n",
    "\n",
    "df['Translated_Review'] = df['Translated_Review'].apply(remove_punctuation)\n",
    "\n",
    "print(df['Translated_Review'])"
   ]
  },
  {
   "cell_type": "code",
   "execution_count": 214,
   "metadata": {},
   "outputs": [
    {
     "name": "stdout",
     "output_type": "stream",
     "text": [
      "0              الشحن المثالي السريع جيد الجودة المعتاد حقا\n",
      "1        مساعدة عملية شرا شفرة الخصم غير قادرة على تطبي...\n",
      "2                     روعة داءما مشكلة طلبية الجمنازيوم   \n",
      "3        توصيل سريع عالي الجودة على الموقع الءلكتروني ا...\n",
      "4        جودة شرا الملابس الرياضية السهلة تم تسليمها بسرعة\n",
      "                               ...                        \n",
      "82927     كتاب جيد وءن كان مملا بعض الشي عند منتصف الكتاب \n",
      "82928    ءول تجربة مع الخيال العلميالكثير من المعلومات ...\n",
      "82929    مرضي الافطار لذيذ لا يوجد قاءمة طعام في الغرفة...\n",
      "82930    الرساءل بين واءل و شوق كانت ءجمل مافي الرواية ...\n",
      "82931    استقبال سي جدا وعدم الاستعداد للنزلا  لا شي عد...\n",
      "Name: Translated_Review, Length: 79569, dtype: object\n"
     ]
    }
   ],
   "source": [
    "from pyarabic.araby import strip_tashkeel, normalize_hamza\n",
    "df['Translated_Review'] = df['Translated_Review'].apply(lambda x: strip_tashkeel(x))\n",
    "df['Translated_Review'] = df['Translated_Review'].apply(lambda x: normalize_hamza(x))\n",
    "print(df['Translated_Review'])\n"
   ]
  },
  {
   "cell_type": "code",
   "execution_count": 215,
   "metadata": {},
   "outputs": [
    {
     "name": "stdout",
     "output_type": "stream",
     "text": [
      "(79569, 2)\n"
     ]
    },
    {
     "data": {
      "text/plain": [
       "Rating               0\n",
       "Translated_Review    0\n",
       "dtype: int64"
      ]
     },
     "execution_count": 215,
     "metadata": {},
     "output_type": "execute_result"
    }
   ],
   "source": [
    "print(df.shape)\n",
    "df.isna().sum()"
   ]
  },
  {
   "cell_type": "code",
   "execution_count": 216,
   "metadata": {},
   "outputs": [],
   "source": [
    "rating_mapping = {'Positive': 2, 'Neutral': 1, 'Negative': 0}\n",
    "df['Rating'] = df['Rating'].map(rating_mapping)"
   ]
  },
  {
   "cell_type": "code",
   "execution_count": 217,
   "metadata": {},
   "outputs": [
    {
     "data": {
      "text/html": [
       "<div>\n",
       "<style scoped>\n",
       "    .dataframe tbody tr th:only-of-type {\n",
       "        vertical-align: middle;\n",
       "    }\n",
       "\n",
       "    .dataframe tbody tr th {\n",
       "        vertical-align: top;\n",
       "    }\n",
       "\n",
       "    .dataframe thead th {\n",
       "        text-align: right;\n",
       "    }\n",
       "</style>\n",
       "<table border=\"1\" class=\"dataframe\">\n",
       "  <thead>\n",
       "    <tr style=\"text-align: right;\">\n",
       "      <th></th>\n",
       "      <th>Rating</th>\n",
       "      <th>Translated_Review</th>\n",
       "    </tr>\n",
       "  </thead>\n",
       "  <tbody>\n",
       "    <tr>\n",
       "      <th>0</th>\n",
       "      <td>2</td>\n",
       "      <td>الشحن المثالي السريع جيد الجودة المعتاد حقا</td>\n",
       "    </tr>\n",
       "    <tr>\n",
       "      <th>1</th>\n",
       "      <td>2</td>\n",
       "      <td>مساعدة عملية شرا شفرة الخصم غير قادرة على تطبي...</td>\n",
       "    </tr>\n",
       "    <tr>\n",
       "      <th>2</th>\n",
       "      <td>2</td>\n",
       "      <td>روعة داءما مشكلة طلبية الجمنازيوم</td>\n",
       "    </tr>\n",
       "    <tr>\n",
       "      <th>3</th>\n",
       "      <td>2</td>\n",
       "      <td>توصيل سريع عالي الجودة على الموقع الءلكتروني ا...</td>\n",
       "    </tr>\n",
       "    <tr>\n",
       "      <th>4</th>\n",
       "      <td>2</td>\n",
       "      <td>جودة شرا الملابس الرياضية السهلة تم تسليمها بسرعة</td>\n",
       "    </tr>\n",
       "  </tbody>\n",
       "</table>\n",
       "</div>"
      ],
      "text/plain": [
       "   Rating                                  Translated_Review\n",
       "0       2        الشحن المثالي السريع جيد الجودة المعتاد حقا\n",
       "1       2  مساعدة عملية شرا شفرة الخصم غير قادرة على تطبي...\n",
       "2       2               روعة داءما مشكلة طلبية الجمنازيوم   \n",
       "3       2  توصيل سريع عالي الجودة على الموقع الءلكتروني ا...\n",
       "4       2  جودة شرا الملابس الرياضية السهلة تم تسليمها بسرعة"
      ]
     },
     "execution_count": 217,
     "metadata": {},
     "output_type": "execute_result"
    }
   ],
   "source": [
    "df.head()"
   ]
  },
  {
   "cell_type": "code",
   "execution_count": 218,
   "metadata": {},
   "outputs": [
    {
     "data": {
      "text/plain": [
       "0              الشحن المثالي السريع جيد الجودة المعتاد حقا\n",
       "1        مساعدة عملية شرا شفرة الخصم غير قادرة على تطبي...\n",
       "2                     روعة داءما مشكلة طلبية الجمنازيوم   \n",
       "3        توصيل سريع عالي الجودة على الموقع الءلكتروني ا...\n",
       "4        جودة شرا الملابس الرياضية السهلة تم تسليمها بسرعة\n",
       "                               ...                        \n",
       "82927     كتاب جيد وءن كان مملا بعض الشي عند منتصف الكتاب \n",
       "82928    ءول تجربة مع الخيال العلميالكثير من المعلومات ...\n",
       "82929    مرضي الافطار لذيذ لا يوجد قاءمة طعام في الغرفة...\n",
       "82930    الرساءل بين واءل و شوق كانت ءجمل مافي الرواية ...\n",
       "82931    استقبال سي جدا وعدم الاستعداد للنزلا  لا شي عد...\n",
       "Name: Translated_Review, Length: 79569, dtype: object"
      ]
     },
     "execution_count": 218,
     "metadata": {},
     "output_type": "execute_result"
    }
   ],
   "source": [
    "df['Translated_Review']"
   ]
  },
  {
   "cell_type": "code",
   "execution_count": 219,
   "metadata": {},
   "outputs": [],
   "source": [
    "df.to_csv('Concat_Translated_Review.csv', index=False)"
   ]
  }
 ],
 "metadata": {
  "kernelspec": {
   "display_name": "Python 3",
   "language": "python",
   "name": "python3"
  },
  "language_info": {
   "codemirror_mode": {
    "name": "ipython",
    "version": 3
   },
   "file_extension": ".py",
   "mimetype": "text/x-python",
   "name": "python",
   "nbconvert_exporter": "python",
   "pygments_lexer": "ipython3",
   "version": "3.12.1"
  }
 },
 "nbformat": 4,
 "nbformat_minor": 2
}
