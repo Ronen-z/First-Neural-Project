{
 "cells": [
  {
   "cell_type": "code",
   "execution_count": 30,
   "metadata": {},
   "outputs": [
    {
     "name": "stderr",
     "output_type": "stream",
     "text": [
      "[nltk_data] Downloading package stopwords to\n",
      "[nltk_data]     C:\\Users\\Hussien\\AppData\\Roaming\\nltk_data...\n",
      "[nltk_data]   Package stopwords is already up-to-date!\n"
     ]
    }
   ],
   "source": [
    "import pandas as pd\n",
    "import numpy as np\n",
    "\n",
    "import re\n",
    "import nltk \n",
    "nltk.download('stopwords')\n",
    "from nltk.corpus import stopwords\n",
    "from nltk.stem import SnowballStemmer"
   ]
  },
  {
   "cell_type": "code",
   "execution_count": 65,
   "metadata": {},
   "outputs": [
    {
     "data": {
      "text/html": [
       "<div>\n",
       "<style scoped>\n",
       "    .dataframe tbody tr th:only-of-type {\n",
       "        vertical-align: middle;\n",
       "    }\n",
       "\n",
       "    .dataframe tbody tr th {\n",
       "        vertical-align: top;\n",
       "    }\n",
       "\n",
       "    .dataframe thead th {\n",
       "        text-align: right;\n",
       "    }\n",
       "</style>\n",
       "<table border=\"1\" class=\"dataframe\">\n",
       "  <thead>\n",
       "    <tr style=\"text-align: right;\">\n",
       "      <th></th>\n",
       "      <th>Username</th>\n",
       "      <th>Location</th>\n",
       "      <th>Date</th>\n",
       "      <th>Rating</th>\n",
       "      <th>Company</th>\n",
       "      <th>Review</th>\n",
       "    </tr>\n",
       "  </thead>\n",
       "  <tbody>\n",
       "    <tr>\n",
       "      <th>0</th>\n",
       "      <td>Unknown</td>\n",
       "      <td>GB</td>\n",
       "      <td>2 days agoInvited</td>\n",
       "      <td>5</td>\n",
       "      <td>gymshark</td>\n",
       "      <td>PerfectShipping was so fast, really good quali...</td>\n",
       "    </tr>\n",
       "    <tr>\n",
       "      <th>1</th>\n",
       "      <td>Sorina Irmak</td>\n",
       "      <td>TR</td>\n",
       "      <td>Apr 24, 2024</td>\n",
       "      <td>4</td>\n",
       "      <td>gymshark</td>\n",
       "      <td>I was unable to apply my discount code… I was ...</td>\n",
       "    </tr>\n",
       "    <tr>\n",
       "      <th>2</th>\n",
       "      <td>Tamara Rockall</td>\n",
       "      <td>GB</td>\n",
       "      <td>6 days agoInvited</td>\n",
       "      <td>5</td>\n",
       "      <td>gymshark</td>\n",
       "      <td>Fantastic as alwaysFantastic as always. There ...</td>\n",
       "    </tr>\n",
       "    <tr>\n",
       "      <th>3</th>\n",
       "      <td>Lauren</td>\n",
       "      <td>GB</td>\n",
       "      <td>Apr 15, 2024Invited</td>\n",
       "      <td>5</td>\n",
       "      <td>gymshark</td>\n",
       "      <td>Quick delivery and high quality The website is...</td>\n",
       "    </tr>\n",
       "    <tr>\n",
       "      <th>4</th>\n",
       "      <td>Malcolm Rait</td>\n",
       "      <td>GB</td>\n",
       "      <td>4 days agoInvited</td>\n",
       "      <td>5</td>\n",
       "      <td>gymshark</td>\n",
       "      <td>Quality gym clothing easy to purchase…Quality ...</td>\n",
       "    </tr>\n",
       "    <tr>\n",
       "      <th>...</th>\n",
       "      <td>...</td>\n",
       "      <td>...</td>\n",
       "      <td>...</td>\n",
       "      <td>...</td>\n",
       "      <td>...</td>\n",
       "      <td>...</td>\n",
       "    </tr>\n",
       "    <tr>\n",
       "      <th>43083</th>\n",
       "      <td>Instagram innerpeace_queen</td>\n",
       "      <td>US</td>\n",
       "      <td>Feb 22, 2022Invited</td>\n",
       "      <td>5</td>\n",
       "      <td>shein</td>\n",
       "      <td>Great stuffGreat stuff, literally the best!Dat...</td>\n",
       "    </tr>\n",
       "    <tr>\n",
       "      <th>43084</th>\n",
       "      <td>Christina</td>\n",
       "      <td>US</td>\n",
       "      <td>Feb 22, 2022Invited</td>\n",
       "      <td>5</td>\n",
       "      <td>shein</td>\n",
       "      <td>ADD TO CART!!!!Quick shipping and the workout ...</td>\n",
       "    </tr>\n",
       "    <tr>\n",
       "      <th>43085</th>\n",
       "      <td>Audrey</td>\n",
       "      <td>US</td>\n",
       "      <td>Feb 22, 2022Invited</td>\n",
       "      <td>5</td>\n",
       "      <td>shein</td>\n",
       "      <td>All of my clothes were amazing!Date of experie...</td>\n",
       "    </tr>\n",
       "    <tr>\n",
       "      <th>43086</th>\n",
       "      <td>Michaela</td>\n",
       "      <td>US</td>\n",
       "      <td>Feb 22, 2022Invited</td>\n",
       "      <td>5</td>\n",
       "      <td>shein</td>\n",
       "      <td>@mdot2shoti love sheinnnn y’all pants be off t...</td>\n",
       "    </tr>\n",
       "    <tr>\n",
       "      <th>43087</th>\n",
       "      <td>Meybelli</td>\n",
       "      <td>US</td>\n",
       "      <td>Feb 22, 2022Invited</td>\n",
       "      <td>5</td>\n",
       "      <td>shein</td>\n",
       "      <td>Did a good jobDate of experience: February 22,...</td>\n",
       "    </tr>\n",
       "  </tbody>\n",
       "</table>\n",
       "<p>43088 rows × 6 columns</p>\n",
       "</div>"
      ],
      "text/plain": [
       "                         Username Location                 Date  Rating  \\\n",
       "0                         Unknown       GB    2 days agoInvited       5   \n",
       "1                    Sorina Irmak       TR         Apr 24, 2024       4   \n",
       "2                  Tamara Rockall       GB    6 days agoInvited       5   \n",
       "3                          Lauren       GB  Apr 15, 2024Invited       5   \n",
       "4                    Malcolm Rait       GB    4 days agoInvited       5   \n",
       "...                           ...      ...                  ...     ...   \n",
       "43083  Instagram innerpeace_queen       US  Feb 22, 2022Invited       5   \n",
       "43084                   Christina       US  Feb 22, 2022Invited       5   \n",
       "43085                      Audrey       US  Feb 22, 2022Invited       5   \n",
       "43086                    Michaela       US  Feb 22, 2022Invited       5   \n",
       "43087                    Meybelli       US  Feb 22, 2022Invited       5   \n",
       "\n",
       "        Company                                             Review  \n",
       "0      gymshark  PerfectShipping was so fast, really good quali...  \n",
       "1      gymshark  I was unable to apply my discount code… I was ...  \n",
       "2      gymshark  Fantastic as alwaysFantastic as always. There ...  \n",
       "3      gymshark  Quick delivery and high quality The website is...  \n",
       "4      gymshark  Quality gym clothing easy to purchase…Quality ...  \n",
       "...         ...                                                ...  \n",
       "43083     shein  Great stuffGreat stuff, literally the best!Dat...  \n",
       "43084     shein  ADD TO CART!!!!Quick shipping and the workout ...  \n",
       "43085     shein  All of my clothes were amazing!Date of experie...  \n",
       "43086     shein  @mdot2shoti love sheinnnn y’all pants be off t...  \n",
       "43087     shein  Did a good jobDate of experience: February 22,...  \n",
       "\n",
       "[43088 rows x 6 columns]"
      ]
     },
     "execution_count": 65,
     "metadata": {},
     "output_type": "execute_result"
    }
   ],
   "source": [
    "df = pd.read_csv('CompanyReviews.csv')\n",
    "df"
   ]
  },
  {
   "cell_type": "code",
   "execution_count": 101,
   "metadata": {},
   "outputs": [
    {
     "data": {
      "text/plain": [
       "Rating    0\n",
       "Review    0\n",
       "dtype: int64"
      ]
     },
     "execution_count": 101,
     "metadata": {},
     "output_type": "execute_result"
    }
   ],
   "source": [
    "df.isna().sum()"
   ]
  },
  {
   "cell_type": "code",
   "execution_count": 67,
   "metadata": {},
   "outputs": [],
   "source": [
    "# Regular expression pattern to match \"(Date of experience: [date])\"\n",
    "pattern = r'Date of experience: [A-Za-z]+\\s\\d{1,2},\\s\\d{4}'\n",
    "\n",
    "# Function to remove the pattern\n",
    "def remove_date(text):\n",
    "    return re.sub(pattern, '', text).strip()\n",
    "\n",
    "# Apply the function to the text column\n",
    "df['Review'] = df['Review'].apply(remove_date)"
   ]
  },
  {
   "cell_type": "code",
   "execution_count": 91,
   "metadata": {},
   "outputs": [],
   "source": [
    "import nltk\n",
    "from wordsegment import load, segment\n",
    "\n",
    "# Load the wordsegment data\n",
    "load()\n",
    "\n",
    "def split_stuck_words(text):\n",
    "    # Use wordsegment to split any concatenated words in the text\n",
    "    words = text.split()\n",
    "    split_words = []\n",
    "    for word in words:\n",
    "        split_words.extend(segment(word))\n",
    "    return ' '.join(split_words)\n",
    "\n",
    "def remove_repetition(text):\n",
    "    # First, split any stuck-together repeated words\n",
    "    text = split_stuck_words(text)\n",
    "    \n",
    "    # Tokenize the text into words\n",
    "    words = nltk.word_tokenize(text)\n",
    "    \n",
    "    # Initialize an empty list to hold the cleaned words\n",
    "    cleaned_words = []\n",
    "    \n",
    "    # Initialize a set to track seen sequences\n",
    "    seen_sequences = set()\n",
    "    \n",
    "    # Iterate over words to detect and remove repetitions\n",
    "    i = 0\n",
    "    while i < len(words):\n",
    "        # Assume no sequence found initially\n",
    "        found_sequence = False\n",
    "        \n",
    "        # Consider sequences of length up to 5 words\n",
    "        for j in range(5, 0, -1):\n",
    "            if i + j <= len(words):\n",
    "                sequence = ' '.join(words[i:i+j])\n",
    "                # Check if the sequence is already seen\n",
    "                if sequence in seen_sequences:\n",
    "                    # If a repeated sequence is found, skip ahead by the length of the sequence\n",
    "                    i += j\n",
    "                    found_sequence = True\n",
    "                    break\n",
    "                else:\n",
    "                    # Add the sequence to seen sequences\n",
    "                    seen_sequences.add(sequence)\n",
    "        \n",
    "        if not found_sequence:\n",
    "            # If no sequence was found, add the current word and move to the next word\n",
    "            cleaned_words.append(words[i])\n",
    "            i += 1\n",
    "    \n",
    "    # Reconstruct the cleaned text\n",
    "    cleaned_text = ' '.join(cleaned_words)\n",
    "    \n",
    "    return cleaned_text\n",
    "\n",
    "# Example usage\n",
    "df['Review'] = df['Review'].apply(remove_repetition)  "
   ]
  },
  {
   "cell_type": "code",
   "execution_count": 95,
   "metadata": {},
   "outputs": [
    {
     "data": {
      "text/plain": [
       "16808                          great service fast delivery\n",
       "9314     attention detail evident well care packaged items\n",
       "1567                                        good great job\n",
       "17788              fast shipping product quality expecting\n",
       "42124    excellent product good quality fair price fits...\n",
       "20424                                  quick easy flawless\n",
       "3261     website alright bought son really clothing thi...\n",
       "23312                                          fast smooth\n",
       "26235    2 day shipping become fib today another exampl...\n",
       "1322     poor quality cancelled items item ordered refu...\n",
       "Name: Review, dtype: object"
      ]
     },
     "execution_count": 95,
     "metadata": {},
     "output_type": "execute_result"
    }
   ],
   "source": [
    "df[\"Review\"].sample(10)"
   ]
  },
  {
   "cell_type": "code",
   "execution_count": 68,
   "metadata": {},
   "outputs": [
    {
     "data": {
      "text/html": [
       "<div>\n",
       "<style scoped>\n",
       "    .dataframe tbody tr th:only-of-type {\n",
       "        vertical-align: middle;\n",
       "    }\n",
       "\n",
       "    .dataframe tbody tr th {\n",
       "        vertical-align: top;\n",
       "    }\n",
       "\n",
       "    .dataframe thead th {\n",
       "        text-align: right;\n",
       "    }\n",
       "</style>\n",
       "<table border=\"1\" class=\"dataframe\">\n",
       "  <thead>\n",
       "    <tr style=\"text-align: right;\">\n",
       "      <th></th>\n",
       "      <th>Rating</th>\n",
       "      <th>Review</th>\n",
       "    </tr>\n",
       "  </thead>\n",
       "  <tbody>\n",
       "    <tr>\n",
       "      <th>21462</th>\n",
       "      <td>5</td>\n",
       "      <td>They were excellentThey were excellent, and a ...</td>\n",
       "    </tr>\n",
       "    <tr>\n",
       "      <th>25202</th>\n",
       "      <td>5</td>\n",
       "      <td>Always great service from AmazonNever had a ba...</td>\n",
       "    </tr>\n",
       "    <tr>\n",
       "      <th>28501</th>\n",
       "      <td>2</td>\n",
       "      <td>Apple Was Once Superior at Customer ServiceApp...</td>\n",
       "    </tr>\n",
       "    <tr>\n",
       "      <th>1338</th>\n",
       "      <td>5</td>\n",
       "      <td>UK's finestGreat sales, great kit, from one of...</td>\n",
       "    </tr>\n",
       "    <tr>\n",
       "      <th>30262</th>\n",
       "      <td>5</td>\n",
       "      <td>I love every item I orderedI love every item I...</td>\n",
       "    </tr>\n",
       "  </tbody>\n",
       "</table>\n",
       "</div>"
      ],
      "text/plain": [
       "       Rating                                             Review\n",
       "21462       5  They were excellentThey were excellent, and a ...\n",
       "25202       5  Always great service from AmazonNever had a ba...\n",
       "28501       2  Apple Was Once Superior at Customer ServiceApp...\n",
       "1338        5  UK's finestGreat sales, great kit, from one of...\n",
       "30262       5  I love every item I orderedI love every item I..."
      ]
     },
     "execution_count": 68,
     "metadata": {},
     "output_type": "execute_result"
    }
   ],
   "source": [
    "df = df.drop(['Username', 'Location', 'Date', 'Company'], axis = 1)\n",
    "df.sample(5).head()"
   ]
  },
  {
   "cell_type": "code",
   "execution_count": 69,
   "metadata": {},
   "outputs": [
    {
     "name": "stderr",
     "output_type": "stream",
     "text": [
      "<>:4: SyntaxWarning: invalid escape sequence '\\S'\n",
      "<>:4: SyntaxWarning: invalid escape sequence '\\S'\n",
      "C:\\Users\\Hussien\\AppData\\Local\\Temp\\ipykernel_32784\\3341848437.py:4: SyntaxWarning: invalid escape sequence '\\S'\n",
      "  text_cleaning_re = \"@\\S+|https?:\\S+|http?:\\S|[^A-Za-z0-9]+\"\n"
     ]
    }
   ],
   "source": [
    "stop_words = stopwords.words('english')\n",
    "stemmer = SnowballStemmer('english')\n",
    "\n",
    "text_cleaning_re = \"@\\S+|https?:\\S+|http?:\\S|[^A-Za-z0-9]+\""
   ]
  },
  {
   "cell_type": "code",
   "execution_count": 70,
   "metadata": {},
   "outputs": [],
   "source": [
    "def preprocess(text, stem=False):\n",
    "  text = re.sub(text_cleaning_re, ' ', str(text).lower()).strip()\n",
    "  tokens = []\n",
    "  for token in text.split():\n",
    "    if token not in stop_words:\n",
    "      if stem:\n",
    "        tokens.append(stemmer.stem(token))\n",
    "      else:\n",
    "        tokens.append(token)\n",
    "  return \" \".join(tokens)\n",
    "\n",
    "def map_rating_to_sentiment(rating):\n",
    "    if rating in [1, 2]:\n",
    "        return 'Negative'\n",
    "    elif rating == 3:\n",
    "        return 'Neutral'\n",
    "    elif rating in [4, 5]:\n",
    "        return 'Positive'"
   ]
  },
  {
   "cell_type": "code",
   "execution_count": 71,
   "metadata": {},
   "outputs": [
    {
     "data": {
      "text/html": [
       "<div>\n",
       "<style scoped>\n",
       "    .dataframe tbody tr th:only-of-type {\n",
       "        vertical-align: middle;\n",
       "    }\n",
       "\n",
       "    .dataframe tbody tr th {\n",
       "        vertical-align: top;\n",
       "    }\n",
       "\n",
       "    .dataframe thead th {\n",
       "        text-align: right;\n",
       "    }\n",
       "</style>\n",
       "<table border=\"1\" class=\"dataframe\">\n",
       "  <thead>\n",
       "    <tr style=\"text-align: right;\">\n",
       "      <th></th>\n",
       "      <th>Rating</th>\n",
       "      <th>Review</th>\n",
       "    </tr>\n",
       "  </thead>\n",
       "  <tbody>\n",
       "    <tr>\n",
       "      <th>0</th>\n",
       "      <td>Positive</td>\n",
       "      <td>perfectshipping fast really good quality usual</td>\n",
       "    </tr>\n",
       "    <tr>\n",
       "      <th>1</th>\n",
       "      <td>Positive</td>\n",
       "      <td>unable apply discount code unable apply discou...</td>\n",
       "    </tr>\n",
       "    <tr>\n",
       "      <th>2</th>\n",
       "      <td>Positive</td>\n",
       "      <td>fantastic alwaysfantastic always problem order...</td>\n",
       "    </tr>\n",
       "    <tr>\n",
       "      <th>3</th>\n",
       "      <td>Positive</td>\n",
       "      <td>quick delivery high quality website easy use p...</td>\n",
       "    </tr>\n",
       "    <tr>\n",
       "      <th>4</th>\n",
       "      <td>Positive</td>\n",
       "      <td>quality gym clothing easy purchase quality gym...</td>\n",
       "    </tr>\n",
       "    <tr>\n",
       "      <th>...</th>\n",
       "      <td>...</td>\n",
       "      <td>...</td>\n",
       "    </tr>\n",
       "    <tr>\n",
       "      <th>43083</th>\n",
       "      <td>Positive</td>\n",
       "      <td>great stuffgreat stuff literally best</td>\n",
       "    </tr>\n",
       "    <tr>\n",
       "      <th>43084</th>\n",
       "      <td>Positive</td>\n",
       "      <td>add cart quick shipping workout clothes amazin...</td>\n",
       "    </tr>\n",
       "    <tr>\n",
       "      <th>43085</th>\n",
       "      <td>Positive</td>\n",
       "      <td>clothes amazing</td>\n",
       "    </tr>\n",
       "    <tr>\n",
       "      <th>43086</th>\n",
       "      <td>Positive</td>\n",
       "      <td>love sheinnnn pants though sized like anywayss...</td>\n",
       "    </tr>\n",
       "    <tr>\n",
       "      <th>43087</th>\n",
       "      <td>Positive</td>\n",
       "      <td>good job</td>\n",
       "    </tr>\n",
       "  </tbody>\n",
       "</table>\n",
       "<p>43088 rows × 2 columns</p>\n",
       "</div>"
      ],
      "text/plain": [
       "         Rating                                             Review\n",
       "0      Positive     perfectshipping fast really good quality usual\n",
       "1      Positive  unable apply discount code unable apply discou...\n",
       "2      Positive  fantastic alwaysfantastic always problem order...\n",
       "3      Positive  quick delivery high quality website easy use p...\n",
       "4      Positive  quality gym clothing easy purchase quality gym...\n",
       "...         ...                                                ...\n",
       "43083  Positive              great stuffgreat stuff literally best\n",
       "43084  Positive  add cart quick shipping workout clothes amazin...\n",
       "43085  Positive                                    clothes amazing\n",
       "43086  Positive  love sheinnnn pants though sized like anywayss...\n",
       "43087  Positive                                           good job\n",
       "\n",
       "[43088 rows x 2 columns]"
      ]
     },
     "execution_count": 71,
     "metadata": {},
     "output_type": "execute_result"
    }
   ],
   "source": [
    "df[\"Review\"] = df[\"Review\"].apply(lambda x: preprocess(x))\n",
    "df['Rating'] = df['Rating'].apply(map_rating_to_sentiment)\n",
    "df"
   ]
  },
  {
   "cell_type": "code",
   "execution_count": 96,
   "metadata": {},
   "outputs": [
    {
     "data": {
      "text/plain": [
       "Rating\n",
       "Positive    31341\n",
       "Negative    10453\n",
       "Neutral      1294\n",
       "Name: count, dtype: int64"
      ]
     },
     "execution_count": 96,
     "metadata": {},
     "output_type": "execute_result"
    }
   ],
   "source": [
    "df[\"Rating\"].value_counts()"
   ]
  },
  {
   "cell_type": "code",
   "execution_count": 99,
   "metadata": {},
   "outputs": [
    {
     "data": {
      "text/plain": [
       "'fantastic always problem order gym shark rectified following day'"
      ]
     },
     "execution_count": 99,
     "metadata": {},
     "output_type": "execute_result"
    }
   ],
   "source": [
    "df.Review[2]"
   ]
  },
  {
   "cell_type": "code",
   "execution_count": 100,
   "metadata": {},
   "outputs": [],
   "source": [
    "df.to_csv('CleanedReviews.csv', index=False)"
   ]
  }
 ],
 "metadata": {
  "kernelspec": {
   "display_name": "Python 3",
   "language": "python",
   "name": "python3"
  },
  "language_info": {
   "codemirror_mode": {
    "name": "ipython",
    "version": 3
   },
   "file_extension": ".py",
   "mimetype": "text/x-python",
   "name": "python",
   "nbconvert_exporter": "python",
   "pygments_lexer": "ipython3",
   "version": "3.12.1"
  }
 },
 "nbformat": 4,
 "nbformat_minor": 2
}
